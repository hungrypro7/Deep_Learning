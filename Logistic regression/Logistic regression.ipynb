{
 "cells": [
  {
   "cell_type": "code",
   "execution_count": 76,
   "id": "fefcf651",
   "metadata": {},
   "outputs": [],
   "source": [
    "import random\n",
    "import numpy as np\n",
    "import matplotlib.pyplot as plt\n",
    "from math import exp, log"
   ]
  },
  {
   "cell_type": "code",
   "execution_count": 77,
   "id": "51a15681",
   "metadata": {},
   "outputs": [],
   "source": [
    "# AND\n",
    "X = np.array([(0,0), (1,0), (0,1), (1,1)])\n",
    "Y = np.array([0, 0, 0, 1])\n",
    "losses = []"
   ]
  },
  {
   "cell_type": "code",
   "execution_count": 78,
   "id": "e529d858",
   "metadata": {},
   "outputs": [],
   "source": [
    "class logistic_regression_model():\n",
    "    def __init__(self):\n",
    "        self.w = np.random.rand(2)\n",
    "        self.b = np.random.rand()\n",
    "    \n",
    "    def sigmoid(self, z):\n",
    "        return 1/(1 + np.exp(-z))\n",
    "    \n",
    "    def predict(self, x):\n",
    "        z = np.inner(x, self.w) + self.b\n",
    "        a = self.sigmoid(z)\n",
    "        return a"
   ]
  },
  {
   "cell_type": "code",
   "execution_count": 79,
   "id": "7675c1b4",
   "metadata": {},
   "outputs": [],
   "source": [
    "model = logistic_regression_model()"
   ]
  },
  {
   "cell_type": "code",
   "execution_count": 80,
   "id": "bbcd4ee6",
   "metadata": {},
   "outputs": [],
   "source": [
    "def train(X, Y, model, lr = 0.1):\n",
    "    dw = np.zeros(2)\n",
    "    db = 0.0\n",
    "    m = len(X)\n",
    "    cost = 0.0\n",
    "    \n",
    "    for x, y in zip(X, Y):\n",
    "        a = model.predict(x)\n",
    "        cost += -(y * np.log(a) + (1-y) * np.log(1-a))\n",
    "        dw += (a-y)*x\n",
    "        db += (a-y)\n",
    "        \n",
    "    cost /= m\n",
    "    model.w -= lr * dw/m\n",
    "    model.b -= lr * db/m\n",
    "    \n",
    "    return cost"
   ]
  },
  {
   "cell_type": "code",
   "execution_count": 81,
   "id": "fee650fa",
   "metadata": {},
   "outputs": [
    {
     "name": "stdout",
     "output_type": "stream",
     "text": [
      "0 1.2216319024493085\n",
      "100 0.44947496956656646\n",
      "200 0.3555436507535105\n",
      "300 0.29673243035759567\n",
      "400 0.25586767646585\n",
      "500 0.22546648345588555\n",
      "600 0.20177057583576846\n",
      "700 0.18267877207829586\n",
      "800 0.16691376237533562\n",
      "900 0.1536470363002842\n",
      "1000 0.14231325298706662\n",
      "1100 0.13251084603563154\n",
      "1200 0.12394521886950431\n",
      "1300 0.11639447242446185\n",
      "1400 0.10968776729521432\n",
      "1500 0.10369112961088275\n",
      "1600 0.09829783211572016\n",
      "1700 0.09342169173595737\n",
      "1800 0.08899228588583666\n",
      "1900 0.08495146627504396\n",
      "2000 0.08125077149292717\n",
      "2100 0.07784947550887913\n",
      "2200 0.07471309462894883\n",
      "2300 0.07181223053985732\n",
      "2400 0.06912166344631118\n",
      "2500 0.06661963383217484\n",
      "2600 0.064287268226414\n",
      "2700 0.06210811613202186\n",
      "2800 0.060067773636736786\n",
      "2900 0.05815357524426305\n",
      "3000 0.05635433985588137\n",
      "3100 0.05466016007384182\n",
      "3200 0.05306222641719929\n",
      "3300 0.05155267986473885\n",
      "3400 0.050124487527819644\n",
      "3500 0.04877133732173647\n",
      "3600 0.047487548329115115\n",
      "3700 0.04626799419224886\n",
      "3800 0.04510803737665672\n",
      "3900 0.04400347254779184\n",
      "4000 0.04295047762085086\n",
      "4100 0.04194557129821469\n",
      "4200 0.040985576113993366\n",
      "4300 0.04006758617099786\n",
      "4400 0.03918893889036949\n",
      "4500 0.03834719020434419\n",
      "4600 0.03754009271315096\n",
      "4700 0.03676557640167387\n",
      "4800 0.03602173157330943\n",
      "4900 0.035306793709815064\n",
      "5000 0.034619130008809895\n",
      "5100 0.03395722738648063\n",
      "5200 0.03331968176320557\n",
      "5300 0.03270518847524379\n",
      "5400 0.03211253367714281\n",
      "5500 0.03154058661776852\n",
      "5600 0.030988292688389624\n",
      "5700 0.03045466715450208\n",
      "5800 0.029938789494416244\n",
      "5900 0.029439798277360284\n",
      "6000 0.02895688652222264\n",
      "6100 0.02848929748527144\n",
      "6200 0.028036320831426834\n",
      "6300 0.027597289149066728\n",
      "6400 0.027171574773038876\n",
      "6500 0.026758586884633416\n",
      "6600 0.026357768860834303\n",
      "6700 0.025968595848274822\n",
      "6800 0.025590572540050642\n",
      "6900 0.025223231135928646\n",
      "7000 0.024866129468594213\n",
      "7100 0.024518849280424963\n",
      "7200 0.024180994636910865\n",
      "7300 0.023852190464280432\n",
      "7400 0.023532081200169298\n",
      "7500 0.023220329547294374\n",
      "7600 0.022916615321102295\n",
      "7700 0.022620634383251906\n",
      "7800 0.022332097653585292\n",
      "7900 0.022050730193947706\n",
      "8000 0.02177627035785308\n",
      "8100 0.021508469000555037\n",
      "8200 0.021247088744587934\n",
      "8300 0.020991903296302204\n",
      "8400 0.02074269680931931\n",
      "8500 0.020499263291203287\n",
      "8600 0.02026140604997286\n",
      "8700 0.020028937177376874\n",
      "8800 0.019801677066122368\n",
      "8900 0.019579453958488847\n",
      "9000 0.019362103523979733\n",
      "9100 0.01914946846386094\n",
      "9200 0.018941398140616024\n",
      "9300 0.018737748230509867\n",
      "9400 0.01853838039760254\n",
      "9500 0.018343161987686638\n",
      "9600 0.018151965740747313\n",
      "9700 0.01796466952065178\n",
      "9800 0.017781156060880647\n",
      "9900 0.017601312725202947\n"
     ]
    }
   ],
   "source": [
    "for epoch in range(10000):\n",
    "    cost = train(X, Y, model, 0.1)\n",
    "    losses.append(cost)\n",
    "    if epoch % 100 == 0:\n",
    "        print(epoch, cost)"
   ]
  },
  {
   "cell_type": "code",
   "execution_count": 82,
   "id": "4b02be0f",
   "metadata": {},
   "outputs": [
    {
     "data": {
      "image/png": "[encoded data removed]",
      "text/plain": [
       "<Figure size 640x480 with 1 Axes>"
      ]
     },
     "metadata": {},
     "output_type": "display_data"
    }
   ],
   "source": [
    "plt.plot(losses)\n",
    "plt.xlabel('Epoch')\n",
    "plt.ylabel('Loss')\n",
    "plt.title('Loss Over Epochs')\n",
    "plt.show()"
   ]
  },
  {
   "cell_type": "code",
   "execution_count": 83,
   "id": "5da38d96",
   "metadata": {},
   "outputs": [
    {
     "data": {
      "text/plain": [
       "1.246939913328383e-05"
      ]
     },
     "execution_count": 83,
     "metadata": {},
     "output_type": "execute_result"
    }
   ],
   "source": [
    "model.predict((0, 0))\n"
   ]
  },
  {
   "cell_type": "code",
   "execution_count": 84,
   "id": "f96dcf1b",
   "metadata": {},
   "outputs": [
    {
     "data": {
      "text/plain": [
       "0.020249926003275274"
      ]
     },
     "execution_count": 84,
     "metadata": {},
     "output_type": "execute_result"
    }
   ],
   "source": [
    "model.predict((1, 0))"
   ]
  },
  {
   "cell_type": "code",
   "execution_count": 85,
   "id": "9d538159",
   "metadata": {},
   "outputs": [
    {
     "data": {
      "text/plain": [
       "0.02024992549299886"
      ]
     },
     "execution_count": 85,
     "metadata": {},
     "output_type": "execute_result"
    }
   ],
   "source": [
    "model.predict((0, 1))"
   ]
  },
  {
   "cell_type": "code",
   "execution_count": 86,
   "id": "0cc62636",
   "metadata": {},
   "outputs": [
    {
     "data": {
      "text/plain": [
       "0.9716378527514016"
      ]
     },
     "execution_count": 86,
     "metadata": {},
     "output_type": "execute_result"
    }
   ],
   "source": [
    "model.predict((1, 1))"
   ]
  }
 ],
 "metadata": {
  "kernelspec": {
   "display_name": "pytorch",
   "language": "python",
   "name": "pytorch"
  },
  "language_info": {
   "codemirror_mode": {
    "name": "ipython",
    "version": 3
   },
   "file_extension": ".py",
   "mimetype": "text/x-python",
   "name": "python",
   "nbconvert_exporter": "python",
   "pygments_lexer": "ipython3",
   "version": "3.11.5"
  }
 },
 "nbformat": 4,
 "nbformat_minor": 5
}
