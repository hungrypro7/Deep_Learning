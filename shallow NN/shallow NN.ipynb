{
 "cells": [
  {
   "cell_type": "code",
   "execution_count": 113,
   "id": "4d393dc4",
   "metadata": {},
   "outputs": [],
   "source": [
    "import random\n",
    "import numpy as np\n",
    "import matplotlib.pyplot as plt"
   ]
  },
  {
   "cell_type": "code",
   "execution_count": 114,
   "id": "0e8ba048",
   "metadata": {},
   "outputs": [],
   "source": [
    "x_seeds = np.array([(0, 0), (1, 0), (0, 1), (1, 1)], dtype=float)\n",
    "y_seeds = np.array([0, 1, 1, 0])"
   ]
  },
  {
   "cell_type": "code",
   "execution_count": 115,
   "id": "2570395b",
   "metadata": {},
   "outputs": [],
   "source": [
    "N = 1000\n",
    "idxs = np.random.randint(0, 4, N)\n",
    "\n",
    "X = x_seeds[idxs]\n",
    "Y = y_seeds[idxs]"
   ]
  },
  {
   "cell_type": "code",
   "execution_count": 116,
   "id": "15ceac60",
   "metadata": {},
   "outputs": [],
   "source": [
    "X += np.random.normal(scale=0.25, size=X.shape)"
   ]
  },
  {
   "cell_type": "code",
   "execution_count": 117,
   "id": "d302eefa",
   "metadata": {},
   "outputs": [],
   "source": [
    "class shallow_neural_network():\n",
    "    def __init__(self, num_input_features, num_hiddens):\n",
    "        self.num_input_features = num_input_features\n",
    "        self.num_hiddens = num_hiddens\n",
    "\n",
    "        self.W1 = np.random.normal(size=(num_hiddens, num_input_features))\n",
    "        self.b1 = np.random.normal(size=num_hiddens)\n",
    "        self.W2 = np.random.normal(size=num_hiddens)\n",
    "        self.b2 = np.random.normal(size=1)\n",
    "\n",
    "    def sigmoid(self, z):\n",
    "        return 1 / (1 + np.exp(-z))\n",
    "\n",
    "    def predict(self, x):\n",
    "        z1 = np.matmul(self.W1, x) + self.b1\n",
    "        a1 = np.tanh(z1)\n",
    "        z2 = np.matmul(self.W2, a1) + self.b2\n",
    "        a2 = self.sigmoid(z2)\n",
    "        return a2, (z1, a1, z2, a2)"
   ]
  },
  {
   "cell_type": "code",
   "execution_count": 118,
   "id": "9c941413",
   "metadata": {},
   "outputs": [],
   "source": [
    "model = shallow_neural_network(2, 3)"
   ]
  },
  {
   "cell_type": "code",
   "execution_count": 119,
   "id": "3b87a196",
   "metadata": {},
   "outputs": [],
   "source": [
    "def train(X, Y, model, lr=0.1):\n",
    "    dW1 = np.zeros_like(model.W1)\n",
    "    db1 = np.zeros_like(model.b1)\n",
    "    dW2 = np.zeros_like(model.W2)\n",
    "    db2 = np.zeros_like(model.b2)\n",
    "    m = len(X)\n",
    "    cost = 0.0\n",
    "    for x, y in zip(X, Y):\n",
    "        a2, (z1, a1, z2, _) = model.predict(x)\n",
    "        # 손실 함수\n",
    "        if y == 1:\n",
    "            cost -= np.log(a2)\n",
    "        else:\n",
    "            cost -= np.log(1 - a2)\n",
    "\n",
    "        diff = a2 - y\n",
    "        db2 += diff\n",
    "\n",
    "        dW2 += a1 * diff\n",
    "\n",
    "        db1 += np.inner((1 - a1 * a1), model.W2 * diff)\n",
    "\n",
    "        dW1 += np.outer(np.inner((1 - a1 * a1), model.W2) * diff, x)\n",
    "\n",
    "    cost /= m\n",
    "    model.W1 -= lr * dW1 / m\n",
    "    model.b1 -= lr * db1 / m\n",
    "    model.W2 -= lr * dW2 / m\n",
    "    model.b2 -= lr * db2 / m\n",
    "\n",
    "    return cost"
   ]
  },
  {
   "cell_type": "code",
   "execution_count": 120,
   "id": "2baa477c",
   "metadata": {
    "scrolled": true
   },
   "outputs": [
    {
     "name": "stdout",
     "output_type": "stream",
     "text": [
      "0 [0.83363154]\n",
      "10 [0.65976883]\n",
      "20 [0.59012846]\n",
      "30 [0.4731163]\n",
      "40 [0.38671165]\n",
      "50 [0.33863605]\n",
      "60 [0.31227663]\n",
      "70 [0.29687384]\n",
      "80 [0.28725148]\n",
      "90 [0.28089083]\n"
     ]
    }
   ],
   "source": [
    "for epoch in range(100):\n",
    "    cost = train(X, Y, model, 1.0)\n",
    "    if epoch % 10 == 0:\n",
    "        print(epoch, cost)\n"
   ]
  },
  {
   "cell_type": "code",
   "execution_count": 121,
   "id": "3eb7bd12",
   "metadata": {},
   "outputs": [
    {
     "data": {
      "text/plain": [
       "0.037692508215554935"
      ]
     },
     "execution_count": 121,
     "metadata": {},
     "output_type": "execute_result"
    }
   ],
   "source": [
    "model.predict((1, 1))[0].item()"
   ]
  },
  {
   "cell_type": "code",
   "execution_count": 122,
   "id": "1cf55af0",
   "metadata": {},
   "outputs": [
    {
     "data": {
      "text/plain": [
       "0.9085684583564557"
      ]
     },
     "execution_count": 122,
     "metadata": {},
     "output_type": "execute_result"
    }
   ],
   "source": [
    "model.predict((1, 0))[0].item()"
   ]
  },
  {
   "cell_type": "code",
   "execution_count": 123,
   "id": "cef88f6e",
   "metadata": {},
   "outputs": [
    {
     "data": {
      "text/plain": [
       "0.8757633080623745"
      ]
     },
     "execution_count": 123,
     "metadata": {},
     "output_type": "execute_result"
    }
   ],
   "source": [
    "model.predict((0, 1))[0].item()"
   ]
  },
  {
   "cell_type": "code",
   "execution_count": 124,
   "id": "b1923d39",
   "metadata": {},
   "outputs": [
    {
     "data": {
      "text/plain": [
       "0.05875541391216496"
      ]
     },
     "execution_count": 124,
     "metadata": {},
     "output_type": "execute_result"
    }
   ],
   "source": [
    "model.predict((0, 0))[0].item()"
   ]
  },
  {
   "cell_type": "code",
   "execution_count": 125,
   "id": "1d6aed06",
   "metadata": {},
   "outputs": [],
   "source": [
    "idxs_1 = np.where(Y == 1)\n",
    "idxs_0 = np.where(Y == 0)"
   ]
  },
  {
   "cell_type": "code",
   "execution_count": 126,
   "id": "e0c5b561",
   "metadata": {},
   "outputs": [],
   "source": [
    "X_0 = X[idxs_0]\n",
    "Y_0 = Y[idxs_0]"
   ]
  },
  {
   "cell_type": "code",
   "execution_count": 127,
   "id": "fa4428a7",
   "metadata": {},
   "outputs": [],
   "source": [
    "X_1 = X[idxs_1]\n",
    "Y_1 = Y[idxs_1]"
   ]
  },
  {
   "cell_type": "code",
   "execution_count": 128,
   "id": "ff34c82a",
   "metadata": {},
   "outputs": [
    {
     "data": {
      "image/png": "[encoded data removed]",
      "text/plain": [
       "<Figure size 640x480 with 1 Axes>"
      ]
     },
     "metadata": {},
     "output_type": "display_data"
    }
   ],
   "source": [
    "plt.plot(X_0[:,0], X_0[:,1], \"r^\")\n",
    "plt.plot(X_1[:,0], X_1[:,1], \"bx\")\n",
    "plt.show()"
   ]
  },
  {
   "cell_type": "code",
   "execution_count": null,
   "id": "58d25e49",
   "metadata": {},
   "outputs": [],
   "source": []
  }
 ],
 "metadata": {
  "kernelspec": {
   "display_name": "pytorch",
   "language": "python",
   "name": "pytorch"
  },
  "language_info": {
   "codemirror_mode": {
    "name": "ipython",
    "version": 3
   },
   "file_extension": ".py",
   "mimetype": "text/x-python",
   "name": "python",
   "nbconvert_exporter": "python",
   "pygments_lexer": "ipython3",
   "version": "3.11.5"
  }
 },
 "nbformat": 4,
 "nbformat_minor": 5
}
